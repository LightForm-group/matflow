{
 "cells": [
  {
   "cell_type": "markdown",
   "id": "49f014f6-8290-43b2-8bb1-33799e90da1b",
   "metadata": {},
   "source": [
    "# Matflow Crystal Plasticity Modelling post-processing examples"
   ]
  },
  {
   "cell_type": "markdown",
   "id": "134cb331-53c3-4bfe-ab75-08068f6ad3fa",
   "metadata": {},
   "source": [
    "A Jupyter notebook with crystal plasticity model post-processing examples"
   ]
  },
  {
   "cell_type": "code",
   "execution_count": 1,
   "id": "25558001-1025-480b-a5d2-9a6823c180e8",
   "metadata": {},
   "outputs": [],
   "source": [
    "import matflow\n",
    "from matflow import load_workflow"
   ]
  },
  {
   "cell_type": "markdown",
   "id": "5b69e9ad-7842-40f5-a817-faf81b9de347",
   "metadata": {},
   "source": [
    "## Plotting Stress-strain of a matflow-DAMASK simulation."
   ]
  },
  {
   "cell_type": "markdown",
   "id": "c0df44f1-fb35-47a2-a116-bea632856e4a",
   "metadata": {},
   "source": [
    "The following code takes a matflow workflow's `workflow.hdf5` file and plots stress against strain.\n",
    "User inputs:\n",
    " - workflow: variable created by using matflow's load_workflow function on a path containing the `workflow.hdf5` file.\n",
    " - axis: String of axis letter \"X\", \"Y\" or \"Z\". Defining the direction of the simulation with which to plot stress against strain.\n",
    " - datascale: string defined in `workflow.yml` output_map_options. Can be \"volume_data\", \"field_data\", \"grain_data\", etc.\n",
    " - stresstype: name of stress data in the workflow.hdf5 file. Defaults names are \"sigma\", \"sigma_vM\", etc.\n",
    " - straintype: name of strain data in the workflow.hdf5 file. Defaults names are \"epsilon_U^0(F)\", \"epsilon_V^0(F)\", \"epsilon_V^0(F)_vM\" etc."
   ]
  },
  {
   "cell_type": "code",
   "execution_count": 1,
   "id": "50551772-e8c2-492a-b63e-a415235773aa",
   "metadata": {},
   "outputs": [
    {
     "name": "stdout",
     "output_type": "stream",
     "text": [
      "Loading matflow config from /Users/user/.matflow/config.yml\n",
      "Loading task schemas from 1 file(s)...OK!\n",
      "Loading software definitions from 1 file(s)...OK!\n"
     ]
    },
    {
     "data": {
      "image/png": "[encoded data removed]",
      "text/plain": [
       "<Figure size 432x288 with 1 Axes>"
      ]
     },
     "metadata": {
      "needs_background": "light"
     },
     "output_type": "display_data"
    }
   ],
   "source": [
    "%matplotlib inline\n",
    "\n",
    "# import load_workflow and plotting from matflow...\n",
    "from matflow import load_workflow\n",
    "from matflow import plotting\n",
    "\n",
    "# define path to completed matflow workflow directory containing result.hdf5 file...\n",
    "workflow = \"/Users/user/Dropbox (The University of Manchester)/matflow_results/\\\n",
    "034_Ti64_TIFUN-T4_TD_Y_Deform_910C_1mms-1_2022-11-08-162547\"\n",
    "\n",
    "# use load_workflow to import the result.hdf5 file into jupyter...\n",
    "workflow = load_workflow(workflow)\n",
    "\n",
    "# use plotting.py functions to plot data from result.hdf5\n",
    "plotting.plot_stress_strain(workflow, axis=\"Y\")\n",
    "\n",
    "# Note: plots axes are labelled, but plots are not titled.\n",
    "# this is so that the user may title their plot, and so that\n",
    "# it may be easily combined with another plot."
   ]
  }
 ],
 "metadata": {
  "kernelspec": {
   "display_name": "Python 3",
   "language": "python",
   "name": "python3"
  },
  "language_info": {
   "codemirror_mode": {
    "name": "ipython",
    "version": 3
   },
   "file_extension": ".py",
   "mimetype": "text/x-python",
   "name": "python",
   "nbconvert_exporter": "python",
   "pygments_lexer": "ipython3",
   "version": "3.8.8"
  }
 },
 "nbformat": 4,
 "nbformat_minor": 5
}
